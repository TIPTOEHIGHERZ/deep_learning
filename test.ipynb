{
 "cells": [
  {
   "cell_type": "code",
   "execution_count": 1,
   "id": "initial_id",
   "metadata": {
    "collapsed": true,
    "ExecuteTime": {
     "end_time": "2024-09-05T12:18:17.544058800Z",
     "start_time": "2024-09-05T12:18:15.302623700Z"
    }
   },
   "outputs": [],
   "source": [
    "import numpy as np\n",
    "import torch\n",
    "import torch.nn as nn"
   ]
  },
  {
   "cell_type": "code",
   "execution_count": 15,
   "outputs": [],
   "source": [
    "def patch_image(image: torch.Tensor, patch_size):\n",
    "    # x: batch_size, channels, height, width\n",
    "    result = image.unfold(-2, patch_size[0], patch_size[0]).unfold(-2, patch_size[1], patch_size[1])\n",
    "    result = result.reshape(*result.shape[:2], -1, patch_size[0], patch_size[1])\n",
    "    result = torch.transpose(result, 1, 2)\n",
    "    return result"
   ],
   "metadata": {
    "collapsed": false,
    "ExecuteTime": {
     "end_time": "2024-09-05T12:39:33.892673500Z",
     "start_time": "2024-09-05T12:39:33.830284Z"
    }
   },
   "id": "a0546e70fef2cff5"
  },
  {
   "cell_type": "code",
   "execution_count": 18,
   "outputs": [],
   "source": [
    "def patch_flatten(x, embedd_dim):\n",
    "    x = x.transpose(-2, -3).transpose(-1, -2)\n",
    "    x = x.reshape(*x.shape[:2], -1)\n",
    "    x = torch.concatenate([x, torch.zeros(x.shape[0], embedd_dim - x.shape[1], *x.shape[2:])], dim=1)\n",
    "    return x"
   ],
   "metadata": {
    "collapsed": false,
    "ExecuteTime": {
     "end_time": "2024-09-05T12:45:28.312619100Z",
     "start_time": "2024-09-05T12:45:28.267825200Z"
    }
   },
   "id": "f986abbbbc4ce563"
  },
  {
   "cell_type": "code",
   "execution_count": 21,
   "outputs": [],
   "source": [
    "image = torch.rand([8, 7, 5, 32, 32])"
   ],
   "metadata": {
    "collapsed": false,
    "ExecuteTime": {
     "end_time": "2024-09-05T12:45:43.184487200Z",
     "start_time": "2024-09-05T12:45:43.130433400Z"
    }
   },
   "id": "d5b40d5c6ca0ffa7"
  },
  {
   "cell_type": "code",
   "execution_count": 22,
   "outputs": [
    {
     "name": "stdout",
     "output_type": "stream",
     "text": [
      "torch.Size([8, 12, 5120])\n"
     ]
    }
   ],
   "source": [
    "a = patch_flatten(image, 12)\n",
    "print(a.shape)"
   ],
   "metadata": {
    "collapsed": false,
    "ExecuteTime": {
     "end_time": "2024-09-05T12:45:43.985475400Z",
     "start_time": "2024-09-05T12:45:43.919180Z"
    }
   },
   "id": "bce811b37f61c274"
  }
 ],
 "metadata": {
  "kernelspec": {
   "display_name": "Python 3",
   "language": "python",
   "name": "python3"
  },
  "language_info": {
   "codemirror_mode": {
    "name": "ipython",
    "version": 2
   },
   "file_extension": ".py",
   "mimetype": "text/x-python",
   "name": "python",
   "nbconvert_exporter": "python",
   "pygments_lexer": "ipython2",
   "version": "2.7.6"
  }
 },
 "nbformat": 4,
 "nbformat_minor": 5
}
